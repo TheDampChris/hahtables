{
  "nbformat": 4,
  "nbformat_minor": 0,
  "metadata": {
    "colab": {
      "provenance": [],
      "authorship_tag": "ABX9TyMLmyfmFDzqlYeu18InlA/7",
      "include_colab_link": true
    },
    "kernelspec": {
      "name": "python3",
      "display_name": "Python 3"
    },
    "language_info": {
      "name": "python"
    }
  },
  "cells": [
    {
      "cell_type": "markdown",
      "metadata": {
        "id": "view-in-github",
        "colab_type": "text"
      },
      "source": [
        "<a href=\"https://colab.research.google.com/github/TheDampChris/hahtables/blob/master/Homework_3_Comp462.ipynb\" target=\"_parent\"><img src=\"https://colab.research.google.com/assets/colab-badge.svg\" alt=\"Open In Colab\"/></a>"
      ]
    },
    {
      "cell_type": "code",
      "execution_count": null,
      "metadata": {
        "colab": {
          "base_uri": "https://localhost:8080/"
        },
        "id": "ZH1XToYITx4E",
        "outputId": "ff392a49-dfc9-4ff2-f083-9b28841e5cf6"
      },
      "outputs": [
        {
          "output_type": "stream",
          "name": "stdout",
          "text": [
            "Looking in indexes: https://pypi.org/simple, https://us-python.pkg.dev/colab-wheels/public/simple/\n",
            "Collecting gffpandas\n",
            "  Downloading gffpandas-1.2.0.tar.gz (178 kB)\n",
            "\u001b[K     |████████████████████████████████| 178 kB 14.7 MB/s \n",
            "\u001b[?25hBuilding wheels for collected packages: gffpandas\n",
            "  Building wheel for gffpandas (setup.py) ... \u001b[?25l\u001b[?25hdone\n",
            "  Created wheel for gffpandas: filename=gffpandas-1.2.0-py2.py3-none-any.whl size=6263 sha256=bf6e7fcfc6a2e776b6facd1f1bd7842c512c87c48e137d2af50c22333c14cc86\n",
            "  Stored in directory: /root/.cache/pip/wheels/a9/d0/2a/cb5ebf14451176d87e738547d58cb2ec39ebc46b19649133cc\n",
            "Successfully built gffpandas\n",
            "Installing collected packages: gffpandas\n",
            "Successfully installed gffpandas-1.2.0\n"
          ]
        }
      ],
      "source": [
        "!pip3 install gffpandas\n",
        "import gffpandas.gffpandas as gffpd"
      ]
    },
    {
      "cell_type": "code",
      "source": [
        "!pip install biopython"
      ],
      "metadata": {
        "colab": {
          "base_uri": "https://localhost:8080/"
        },
        "id": "YJ-TkXMIV3t1",
        "outputId": "bb33c1ef-107f-44c4-8a9a-79aed6997561"
      },
      "execution_count": null,
      "outputs": [
        {
          "output_type": "stream",
          "name": "stdout",
          "text": [
            "Looking in indexes: https://pypi.org/simple, https://us-python.pkg.dev/colab-wheels/public/simple/\n",
            "Collecting biopython\n",
            "  Downloading biopython-1.80-cp37-cp37m-manylinux_2_17_x86_64.manylinux2014_x86_64.whl (3.0 MB)\n",
            "\u001b[K     |████████████████████████████████| 3.0 MB 13.7 MB/s \n",
            "\u001b[?25hRequirement already satisfied: numpy in /usr/local/lib/python3.7/dist-packages (from biopython) (1.21.6)\n",
            "Installing collected packages: biopython\n",
            "Successfully installed biopython-1.80\n"
          ]
        }
      ]
    },
    {
      "cell_type": "code",
      "source": [
        "from google.colab import drive\n",
        "drive.mount('/drive')"
      ],
      "metadata": {
        "colab": {
          "base_uri": "https://localhost:8080/"
        },
        "id": "RY88IjY0ZfaC",
        "outputId": "c68c735f-64e8-4ef4-c3d9-c94e45a03893"
      },
      "execution_count": null,
      "outputs": [
        {
          "output_type": "stream",
          "name": "stdout",
          "text": [
            "Mounted at /drive\n"
          ]
        }
      ]
    },
    {
      "cell_type": "code",
      "source": [
        "import math"
      ],
      "metadata": {
        "id": "09Z-gJxsUncZ"
      },
      "execution_count": null,
      "outputs": []
    },
    {
      "cell_type": "code",
      "source": [
        "annotation = gffpd.read_gff3('Vibrio_cholerae.GFC_11.37.gff3')\n",
        "filtered_df = annotation.filter_feature_of_type(['CDS'])"
      ],
      "metadata": {
        "id": "brAQw8YgcNdB"
      },
      "execution_count": null,
      "outputs": []
    },
    {
      "cell_type": "code",
      "source": [
        "cond = filtered_df.df['strand'] == \"+\" # consider backward strands as intragenic\n",
        "cond_rev = filtered_df.df['strand'] == \"-\"\n",
        "genic_df = filtered_df.df.where(cond)\n",
        "genic_df.dropna(inplace=True);\n",
        "intragenic_df = filtered_df.df.where(cond_rev)\n",
        "intragenic_df.dropna(inplace=True)\n",
        "genic_df['length'] = genic_df['end'] - genic_df['start']\n",
        "intragenic_df['length'] = intragenic_df['end'] - intragenic_df['start']\n",
        "Average_genic_region = genic_df['length'].sum()/genic_df.shape[0]\n",
        "\n",
        "genic_df['start'] = genic_df['start'].astype(int)\n",
        "genic_df['end'] = genic_df['end'].astype(int)\n",
        "\n",
        "intragenic_df['start'] = intragenic_df['start'].astype(int)\n",
        "intragenic_df['end'] = intragenic_df['end'].astype(int)\n"
      ],
      "metadata": {
        "id": "HEuhC93-h36d"
      },
      "execution_count": null,
      "outputs": []
    },
    {
      "cell_type": "code",
      "source": [
        "from Bio import SeqIO\n",
        "with open('Vibrio_cholerae.GFC_11.dna.nonchromosomal.fa') as fasta_file:  # Will close handle cleanly\n",
        "    identifiers = []\n",
        "    sequence = []\n",
        "    for seq_record in SeqIO.parse(fasta_file, 'fasta'):  # (generator)\n",
        "        identifiers.append(seq_record.id)\n",
        "        sequence.append(seq_record.seq)\n",
        "\n"
      ],
      "metadata": {
        "id": "-r1oB1qJ3Dux"
      },
      "execution_count": null,
      "outputs": []
    },
    {
      "cell_type": "code",
      "source": [
        "seq_genic = {} #create a dictionary\n",
        "\n",
        "for row in genic_df.itertuples():\n",
        "  if row.seq_id in seq_genic:\n",
        "    seq_genic[row.seq_id].append([row.start, row.end])\n",
        "  else:\n",
        "    seq_genic[row.seq_id] = [[row.start, row.end]]"
      ],
      "metadata": {
        "id": "keX3Lz-7g4N0"
      },
      "execution_count": null,
      "outputs": []
    },
    {
      "cell_type": "code",
      "source": [
        "seq_intragenic = {}\n",
        "for key in seq_genic:\n",
        "  for i in range(0, len(seq_genic[key])):\n",
        "    if i == 0:\n",
        "      if key in seq_intragenic:\n",
        "        seq_intragenic[key].append([1, (seq_genic[key][0][0] - 1)])\n",
        "      else:\n",
        "        seq_intragenic[key] = [[1, (seq_genic[key][0][0] - 1)]]\n",
        "    elif not i + 1 == len(seq_genic[key]):\n",
        "      if seq_genic[key][i - 1][1] == seq_genic[key][i][0]:\n",
        "        continue\n",
        "      else:\n",
        "        seq_intragenic[key].append([(seq_genic[key][i - 1][1] + 1), (seq_genic[key][i][0] - 1)])\n",
        "    elif i + 1 == len(seq_genic[key]):\n",
        "      seq_intragenic[key].append([(seq_genic[key][i][1] + 1), len(sequence[int(key[-3 : ]) - 1])])"
      ],
      "metadata": {
        "id": "RdDQjvHQBzx-"
      },
      "execution_count": null,
      "outputs": []
    },
    {
      "cell_type": "code",
      "source": [
        "genic_arr = []\n",
        "\n",
        "for key in seq_genic:\n",
        "  for i in range(0, len(seq_genic[key])):\n",
        "      id = int(key[-3 : ])-1\n",
        "      start = (seq_genic[key][i][0] - 1)\n",
        "      end = (seq_genic[key][i][1] - 1)\n",
        "      genic_arr.append(sequence[id][start : end])\n",
        "\n",
        "\n",
        "intragenic_arr = []\n",
        "\n",
        "for key in seq_intragenic:\n",
        "  for i in range(0, len(seq_intragenic[key])):\n",
        "      intragenic_arr.append(sequence[int(key[-3 : ]) - 1][(seq_intragenic[key][i][0] - 1) : (seq_intragenic[key][i][1] - 1)])\n",
        "\n"
      ],
      "metadata": {
        "id": "KyXSil_CkxfI"
      },
      "execution_count": null,
      "outputs": []
    },
    {
      "cell_type": "markdown",
      "source": [
        "Average Length of intragenic regions"
      ],
      "metadata": {
        "id": "hOxuIH6dQu5u"
      }
    },
    {
      "cell_type": "code",
      "source": [
        "average = 0\n",
        "intragenic_arr = [x for x in intragenic_arr if x != '']\n",
        "\n",
        "for seq in intragenic_arr:\n",
        "  average += len(seq)\n",
        "print(average/len(intragenic_arr))"
      ],
      "metadata": {
        "colab": {
          "base_uri": "https://localhost:8080/"
        },
        "id": "RxBN1xcXQuMZ",
        "outputId": "22cffc52-3744-4033-a610-5a76f7e96f99"
      },
      "execution_count": null,
      "outputs": [
        {
          "output_type": "stream",
          "name": "stdout",
          "text": [
            "1200.1271850512358\n"
          ]
        }
      ]
    },
    {
      "cell_type": "markdown",
      "source": [
        "Average Length of genic regions"
      ],
      "metadata": {
        "id": "BEpBmMOzQzHP"
      }
    },
    {
      "cell_type": "code",
      "source": [
        "average = 0\n",
        "genic_arr = [x for x in genic_arr if x != '']\n",
        "\n",
        "for seq in genic_arr:\n",
        "  average += len(seq)\n",
        "print(average/len(genic_arr))"
      ],
      "metadata": {
        "colab": {
          "base_uri": "https://localhost:8080/"
        },
        "id": "hlCFOB3lQubm",
        "outputId": "82668777-3698-4fc4-e083-eb4350722f27"
      },
      "execution_count": null,
      "outputs": [
        {
          "output_type": "stream",
          "name": "stdout",
          "text": [
            "990.4515103338633\n"
          ]
        }
      ]
    },
    {
      "cell_type": "markdown",
      "source": [
        "Intragenic Nucleotide Frequency"
      ],
      "metadata": {
        "id": "aOC7dPZZS7-Q"
      }
    },
    {
      "cell_type": "code",
      "source": [
        "# Genic nucleotide frequency\n",
        "\n",
        "frequency_nucleo = {'A' : 0, 'T' : 0, 'G' : 0, 'C': 0}\n",
        "nucleotides = 0\n",
        "for seq in intragenic_arr:\n",
        "  nucleotides += len(seq)\n",
        "  for nucleo in seq:\n",
        "    if nucleo == 'A':\n",
        "      frequency_nucleo['A'] = frequency_nucleo.get('A') + 1\n",
        "    elif nucleo == 'T':\n",
        "      frequency_nucleo['T'] = frequency_nucleo.get('T') + 1\n",
        "    elif nucleo == 'G':\n",
        "      frequency_nucleo['G'] = frequency_nucleo.get('G') + 1\n",
        "    elif nucleo == 'C':\n",
        "      frequency_nucleo['C'] = frequency_nucleo.get('C') + 1\n",
        "    else:\n",
        "      continue\n",
        "\n",
        "for nucleo in frequency_nucleo:\n",
        "  frequency_nucleo[nucleo] = frequency_nucleo.get(nucleo) / nucleotides\n",
        "\n",
        "print(frequency_nucleo)"
      ],
      "metadata": {
        "colab": {
          "base_uri": "https://localhost:8080/"
        },
        "id": "T7VLqRku39dA",
        "outputId": "ed191ab4-9e35-4740-ec3c-80a0841fb28a"
      },
      "execution_count": null,
      "outputs": [
        {
          "output_type": "stream",
          "name": "stdout",
          "text": [
            "{'A': 0.2648056690796786, 'T': 0.26453143654153594, 'G': 0.22660949638148659, 'C': 0.24405339799729886}\n"
          ]
        }
      ]
    },
    {
      "cell_type": "markdown",
      "source": [
        "Codon Frequency Table"
      ],
      "metadata": {
        "id": "i3AznDOkTAnp"
      }
    },
    {
      "cell_type": "code",
      "source": [
        "codon_table = {}\n",
        "nucleotides = ['A', 'T', 'G', 'C']\n",
        "\n",
        "for pos1 in nucleotides:\n",
        "  for pos2 in nucleotides:\n",
        "    for pos3 in nucleotides:\n",
        "      codon = pos1+pos2+pos3\n",
        "      codon_table[codon] = 0\n",
        "\n",
        "for seq in genic_arr:\n",
        "  if len(seq) >= 6: \n",
        "    for i in range(3, int(len(seq)/3), 3):\n",
        "      codon_table[seq[i : i+3]] = codon_table.get(seq[i : i+3]) + 1\n",
        "  else:\n",
        "    continue\n",
        "\n",
        "frequency = 0\n",
        "for value in codon_table:\n",
        "  frequency += codon_table[value]\n",
        "\n",
        "for value in codon_table:\n",
        "  codon_table[value] = codon_table.get(value)/frequency\n",
        "\n",
        "print(codon_table)"
      ],
      "metadata": {
        "colab": {
          "base_uri": "https://localhost:8080/"
        },
        "id": "kX2sttQxz0Pd",
        "outputId": "cbfc14ae-0b3f-4380-a881-7dd388a8dedc"
      },
      "execution_count": null,
      "outputs": [
        {
          "output_type": "stream",
          "name": "stdout",
          "text": [
            "{'AAA': 0.0362000834975776, 'AAT': 0.019311242075011892, 'AAG': 0.013427575560453217, 'AAC': 0.019651057797799937, 'ATA': 0.00388360826043477, 'ATT': 0.0317096614464499, 'ATG': 0.021612279969319494, 'ATC': 0.0252094721205472, 'AGA': 0.002490363797003796, 'AGT': 0.012160548365486374, 'AGG': 0.0008107032243657583, 'AGC': 0.014019825820169519, 'ACA': 0.0083546122702603, 'ACT': 0.013369321436546696, 'ACG': 0.011641115760653223, 'ACC': 0.021092847364486345, 'TAA': 4.854510325543462e-06, 'TAT': 0.016116974280804296, 'TAG': 9.709020651086924e-06, 'TAC': 0.013675155587055933, 'TTA': 0.020291853160771672, 'TTT': 0.02777265357243415, 'TTG': 0.02251521888987058, 'TTC': 0.012951833548549958, 'TGA': 2.9127061953260773e-05, 'TGT': 0.0056215229569793294, 'TGG': 0.013247958678408108, 'TGC': 0.004199151431595095, 'TCA': 0.010956629804751594, 'TCT': 0.012286765633950503, 'TCG': 0.009306096294066818, 'TCC': 0.006558443449809217, 'GAA': 0.03821470528267814, 'GAT': 0.036156392904647706, 'GAG': 0.02281134401972873, 'GAC': 0.0145538219559793, 'GTA': 0.011490625940561376, 'GTT': 0.01782090740507005, 'GTG': 0.025777449828635786, 'GTC': 0.01519947182927658, 'GGA': 0.007461382370360301, 'GGT': 0.025384234492266764, 'GGG': 0.008388593842539102, 'GGC': 0.02459294930920318, 'GCA': 0.018796663980504287, 'GCT': 0.021374408963367866, 'GCG': 0.029437750614095558, 'GCC': 0.023088051108284706, 'CAA': 0.033229123178345, 'CAT': 0.012485800557297786, 'CAG': 0.018374321582182006, 'CAC': 0.010320688952105401, 'CTA': 0.009359495907647796, 'CTT': 0.014616930590211366, 'CTG': 0.029093080380981972, 'CTC': 0.015796576599318428, 'CGA': 0.005155489965727157, 'CGT': 0.019063662048409178, 'CGG': 0.002737943823606513, 'CGC': 0.017432546579026573, 'CCA': 0.012379001330135829, 'CCT': 0.011980931483441265, 'CCG': 0.010393506606988553, 'CCC': 0.006543879918832587}\n"
          ]
        }
      ]
    },
    {
      "cell_type": "markdown",
      "source": [
        "Start Codon Frequency Table"
      ],
      "metadata": {
        "id": "jHhC-nkJaq6x"
      }
    },
    {
      "cell_type": "code",
      "source": [
        "Start_codon_table = {}\n",
        "nucleotides = ['A', 'T', 'G', 'C']\n",
        "for pos1 in nucleotides:\n",
        "  for pos2 in nucleotides:\n",
        "    for pos3 in nucleotides:\n",
        "      codon = pos1+pos2+pos3\n",
        "      Start_codon_table[codon] = 0\n",
        "\n",
        "for preseq in genic_arr:\n",
        "  if len(preseq) >= 3:\n",
        "    Start_codon_table[preseq[0:3]] = Start_codon_table.get(preseq[0:3]) + 1\n",
        "\n",
        "Start_frequency = 0\n",
        "for value in Start_codon_table:\n",
        "  Start_frequency += Start_codon_table[value]\n",
        "\n",
        "for value in Start_codon_table:\n",
        "  Start_codon_table[value] = Start_codon_table.get(value)/Start_frequency\n",
        "\n",
        "print(Start_codon_table)"
      ],
      "metadata": {
        "id": "2uA3VUjtaqh2",
        "colab": {
          "base_uri": "https://localhost:8080/"
        },
        "outputId": "8b9756fe-fb90-4fc4-b4a2-dbe22cbfead9"
      },
      "execution_count": null,
      "outputs": [
        {
          "output_type": "stream",
          "name": "stdout",
          "text": [
            "{'AAA': 0.0, 'AAT': 0.0005299417064122947, 'AAG': 0.0, 'AAC': 0.0, 'ATA': 0.0, 'ATT': 0.0, 'ATG': 0.8871224165341812, 'ATC': 0.0, 'AGA': 0.0, 'AGT': 0.0, 'AGG': 0.0, 'AGC': 0.0, 'ACA': 0.0, 'ACT': 0.0, 'ACG': 0.0, 'ACC': 0.0, 'TAA': 0.0, 'TAT': 0.0, 'TAG': 0.0, 'TAC': 0.0, 'TTA': 0.0, 'TTT': 0.0, 'TTG': 0.03762586115527292, 'TTC': 0.0, 'TGA': 0.0, 'TGT': 0.0, 'TGG': 0.0, 'TGC': 0.0, 'TCA': 0.0, 'TCT': 0.0, 'TCG': 0.0, 'TCC': 0.0, 'GAA': 0.0, 'GAT': 0.0, 'GAG': 0.0, 'GAC': 0.0, 'GTA': 0.0, 'GTT': 0.0, 'GTG': 0.07366189719130896, 'GTC': 0.0005299417064122947, 'GGA': 0.0, 'GGT': 0.0, 'GGG': 0.0, 'GGC': 0.0, 'GCA': 0.0, 'GCT': 0.0, 'GCG': 0.0, 'GCC': 0.0, 'CAA': 0.0, 'CAT': 0.0, 'CAG': 0.0, 'CAC': 0.0, 'CTA': 0.0, 'CTT': 0.0, 'CTG': 0.0, 'CTC': 0.0, 'CGA': 0.0, 'CGT': 0.0, 'CGG': 0.0, 'CGC': 0.0005299417064122947, 'CCA': 0.0, 'CCT': 0.0, 'CCG': 0.0, 'CCC': 0.0}\n"
          ]
        }
      ]
    },
    {
      "cell_type": "markdown",
      "source": [
        "Stop Codon Frequency Table"
      ],
      "metadata": {
        "id": "ldoQCZpacWX5"
      }
    },
    {
      "cell_type": "code",
      "source": [
        "Stop_codon_table = {}\n",
        "nucleotides = ['A', 'T', 'G', 'C']\n",
        "for pos1 in nucleotides:\n",
        "  for pos2 in nucleotides:\n",
        "    for pos3 in nucleotides:\n",
        "      codon = pos1+pos2+pos3\n",
        "      Stop_codon_table[codon] = 0\n",
        "\n",
        "for preseq in genic_arr:\n",
        "  if len(preseq) >= 3:\n",
        "    Stop_codon_table[preseq[-3 :]] = Stop_codon_table.get(preseq[-3 :]) + 1\n",
        "\n",
        "Stop_frequency = 0\n",
        "for value in Stop_codon_table:\n",
        "  Stop_frequency += Stop_codon_table[value]\n",
        "\n",
        "for value in Stop_codon_table:\n",
        "  Stop_codon_table[value] = Stop_codon_table.get(value)/Stop_frequency\n",
        "\n",
        "print(Stop_codon_table)"
      ],
      "metadata": {
        "id": "bS6B7m4ycV2f",
        "colab": {
          "base_uri": "https://localhost:8080/"
        },
        "outputId": "26968fcf-1402-4f5b-8620-c75db86d3833"
      },
      "execution_count": null,
      "outputs": [
        {
          "output_type": "stream",
          "name": "stdout",
          "text": [
            "{'AAA': 0.0, 'AAT': 0.0, 'AAG': 0.0, 'AAC': 0.0, 'ATA': 0.2289348171701113, 'ATT': 0.0, 'ATG': 0.06412294647588765, 'ATC': 0.0, 'AGA': 0.0, 'AGT': 0.0, 'AGG': 0.0, 'AGC': 0.0005299417064122947, 'ACA': 0.0, 'ACT': 0.0, 'ACG': 0.0, 'ACC': 0.0, 'TAA': 0.0, 'TAT': 0.0, 'TAG': 0.0, 'TAC': 0.0, 'TTA': 0.20985691573926868, 'TTT': 0.0, 'TTG': 0.04345521992580816, 'TTC': 0.0, 'TGA': 0.0, 'TGT': 0.0, 'TGG': 0.0, 'TGC': 0.0, 'TCA': 0.0, 'TCT': 0.0, 'TCG': 0.0, 'TCC': 0.0, 'GAA': 0.0, 'GAT': 0.0, 'GAG': 0.0, 'GAC': 0.0, 'GTA': 0.19448860625331213, 'GTT': 0.0005299417064122947, 'GTG': 0.03815580286168521, 'GTC': 0.0, 'GGA': 0.0, 'GGT': 0.0, 'GGG': 0.0, 'GGC': 0.0, 'GCA': 0.0, 'GCT': 0.0, 'GCG': 0.0, 'GCC': 0.0, 'CAA': 0.0, 'CAT': 0.0, 'CAG': 0.0, 'CAC': 0.0, 'CTA': 0.17594064652888183, 'CTT': 0.0, 'CTG': 0.04345521992580816, 'CTC': 0.0005299417064122947, 'CGA': 0.0, 'CGT': 0.0, 'CGG': 0.0, 'CGC': 0.0, 'CCA': 0.0, 'CCT': 0.0, 'CCG': 0.0, 'CCC': 0.0}\n"
          ]
        }
      ]
    },
    {
      "cell_type": "markdown",
      "source": [
        "Frequencies (USED IN VITERBI AS INPUT)"
      ],
      "metadata": {
        "id": "meB-EK1HTENV"
      }
    },
    {
      "cell_type": "code",
      "source": [
        "states = ('Intergenic', 'Start', 'Genic', 'Stop')\n",
        "start_p = {'Intergenic': 1, 'Start': 0, 'Genic': 0, 'Stop': 0}\n",
        "trans_p = {\n",
        "    'Intergenic': {'Intergenic': (1199/1200), 'Start': (1/1200), 'Genic': 0, 'Stop': 0},\n",
        "    'Start': {'Intergenic': 0,'Start': 0, 'Genic': 1, 'Stop': 0},\n",
        "    'Genic': {'Intergenic': 0, 'Start': 0, 'Genic': (329/330), 'Stop' : (1/330)},\n",
        "    'Stop' : {'Intergenic': 1, 'Start': 0, 'Genic': 0, 'Stop': 0}\n",
        "}\n",
        "emis_p = {\n",
        "    'Intergenic': frequency_nucleo,\n",
        "    'Start': Start_codon_table,\n",
        "    'Genic': codon_table,\n",
        "    'Stop' : Stop_codon_table\n",
        "}"
      ],
      "metadata": {
        "id": "vJCGqVcgTFDZ"
      },
      "execution_count": null,
      "outputs": []
    },
    {
      "cell_type": "markdown",
      "source": [
        "Logarithm calculator function"
      ],
      "metadata": {
        "id": "taw4pRopmy2l"
      }
    },
    {
      "cell_type": "code",
      "source": [
        "def logit(list):\n",
        "  prob = 0\n",
        "  for i in list:\n",
        "    prob = math.log(i)\n",
        "  return prob"
      ],
      "metadata": {
        "id": "YOwK5utHeul4"
      },
      "execution_count": null,
      "outputs": []
    },
    {
      "cell_type": "markdown",
      "source": [
        "Helper functions"
      ],
      "metadata": {
        "id": "mtdAK9l5m54D"
      }
    },
    {
      "cell_type": "code",
      "source": [
        "def finders(dict):\n",
        "  answer_dict = {}\n",
        "  for key in dict:\n",
        "      ex = dict[key]\n",
        "      first = True\n",
        "      while not len(ex) == 0:\n",
        "        try:\n",
        "          if first:\n",
        "            start = ex.index('Start')\n",
        "            stop = ex.index('Stop') + 2\n",
        "            first = False\n",
        "          else:\n",
        "            start = ex.index('Start', answer_dict.get(key)[-1][1])\n",
        "            stop = ex.index('Stop', answer_dict.get(key)[-1][1] + 3) + 2\n",
        "          if key not in answer_dict:\n",
        "            answer_dict[key] = [[start, stop]]\n",
        "          else:\n",
        "            answer_dict[key].append([start, stop])\n",
        "        except ValueError:\n",
        "          ex = []\n",
        "  return answer_dict"
      ],
      "metadata": {
        "id": "WJJwJ-hyJS1d"
      },
      "execution_count": null,
      "outputs": []
    },
    {
      "cell_type": "code",
      "source": [
        "def verbose(dict, filename):\n",
        "  text = ''\n",
        "  with open(filename, 'w') as f:\n",
        "    for key in dict:\n",
        "      for i in range(0, len(dict[key])):\n",
        "        towrite = key + '\\t' + 'ena' + '\\t' + 'CDS' + '\\t' + str(dict[key][i][0]) + ' ' + str(dict[key][i][1]) + '\\t' + '.' + '\\t' + '+' + '\\t' + '0' + '\\t' + '.' + '\\t' +'\\n'\n",
        "        print\n",
        "        text += towrite \n",
        "        f.write(towrite)\n",
        "  print(text)\n",
        "  f.close()"
      ],
      "metadata": {
        "id": "oqu_9yARR4Ty"
      },
      "execution_count": null,
      "outputs": []
    },
    {
      "cell_type": "markdown",
      "source": [
        "Viterbi Algorigthm that spits out a file\n",
        "\n",
        "*   It is run by inputting a fasta file 'here'\n",
        "*   states, start probabilities, transition probabilities and emissions probabilities were all computed beforehand\n",
        "*   It will write to a file called 'filename'\n",
        "\n",
        "\n",
        "\n"
      ],
      "metadata": {
        "id": "ZGd0DHzlVV8h"
      }
    },
    {
      "cell_type": "code",
      "source": [
        "def viterbi_alg(here, states, start_p, trans_p, emis_p, filename):\n",
        "  with open(here) as fasta_file:  # Will close handle cleanly\n",
        "    sequence = {}\n",
        "    for seq_record in SeqIO.parse(fasta_file, 'fasta'):  # (generator)\n",
        "      sequence[seq_record.id] = seq_record.seq\n",
        "\n",
        "  observ_dict = {}\n",
        "  for observations in sequence:\n",
        "    contig = observations\n",
        "    observations = sequence[observations]\n",
        "\n",
        "    t = 1\n",
        "    skip = 0\n",
        "    copyoverstate = ''\n",
        "    statepath = ['Intergenic']\n",
        "    statepath_prob = [(start_p['Intergenic'] * emis_p['Intergenic'][observations[0]])]\n",
        "    while t < len(observations):\n",
        "      if skip > 0:\n",
        "        statepath_prob.append(statepath_prob[-1])\n",
        "        statepath.append(statepath[-1])\n",
        "        skip -= 1\n",
        "        t += 1\n",
        "        continue\n",
        "      prev_st_selected = statepath[-1]\n",
        "      max_state_prob = []\n",
        "      for st in states:\n",
        "        if st == 'Intergenic':\n",
        "          max_prob = trans_p[prev_st_selected][st] * emis_p[st][observations[t]]\n",
        "          if not max_prob == 0:\n",
        "            max_prob = statepath_prob[- 1] +  logit([trans_p[prev_st_selected][st],  emis_p[st][observations[t]]])\n",
        "          else:\n",
        "            max_prob = -math.inf\n",
        "        else:\n",
        "          if t+2 >= len(observations):\n",
        "            max_prob = -math.inf\n",
        "          else:\n",
        "            max_prob = trans_p[prev_st_selected][st] * emis_p[st][observations[t : t + 3]]\n",
        "            if not max_prob == 0:\n",
        "              max_prob = statepath_prob[- 1]  + logit([trans_p[prev_st_selected][st], emis_p[st][observations[t : t + 3]]])\n",
        "            else:\n",
        "              max_prob = -math.inf\n",
        "            if st == 'Start':\n",
        "              if trans_p[prev_st_selected]['Intergenic'] == 0 or trans_p[prev_st_selected]['Intergenic'] == 0:\n",
        "                max_prob2 = -math.inf\n",
        "              else:\n",
        "                max_prob2 = statepath_prob[- 1] + logit([trans_p[prev_st_selected]['Intergenic'], emis_p['Intergenic'][observations[t]]])\n",
        "                max_prob2 += logit([trans_p['Intergenic']['Intergenic'] * emis_p['Intergenic'][observations[t+1]]])\n",
        "                max_prob2 += logit([trans_p['Intergenic']['Intergenic'] * emis_p['Intergenic'][observations[t+2]]])\n",
        "              max_prob = max(max_prob, max_prob2)\n",
        "  \n",
        "        max_state_prob.append((max_prob))\n",
        "      most_likely_state = states[max_state_prob.index(max(max_state_prob))]\n",
        "      if not most_likely_state is 'Intergenic':\n",
        "        skip = 2\n",
        "      most_likely_prob = max(max_state_prob)\n",
        "      statepath_prob.append(most_likely_prob)\n",
        "      statepath.append(most_likely_state)\n",
        "      t += 1\n",
        "    observ_dict[contig] = statepath\n",
        "  verbose(finders(observ_dict), filename)"
      ],
      "metadata": {
        "id": "cWb69jSHt6ZK"
      },
      "execution_count": null,
      "outputs": []
    },
    {
      "cell_type": "code",
      "source": [
        "there = viterbi_alg('Vibrio_vulnificus.ASM74310v1.dna.nonchromosomal.fa', states, start_p, trans_p, emis_p, 'Vibrio_vulnificus.gff3')"
      ],
      "metadata": {
        "id": "j5q1MYDnVVNV"
      },
      "execution_count": null,
      "outputs": []
    },
    {
      "cell_type": "markdown",
      "source": [
        "Compare function"
      ],
      "metadata": {
        "id": "DDcLSu4xnHBM"
      }
    },
    {
      "cell_type": "code",
      "source": [
        "def compare(gff3, gff4):\n",
        "  annotation = gffpd.read_gff3(gff3)\n",
        "  annotation2 = gffpd.read_gff3(gff4)\n",
        "  filtered_df1 = annotation.filter_feature_of_type(['CDS'])\n",
        "  filtered_df2 = annotation2.filter_feature_of_type(['CDS'])\n",
        "  cond1 = filtered_df1.df['strand'] == \"+\" # consider backward strands as intragenic\n",
        "  cond2 = filtered_df2.df['strand'] == \"-\"\n",
        "  gff3 = filtered_df1.df.where(cond1)\n",
        "  gff3.dropna(inplace=True);\n",
        "  gff4 = filtered_df1.df.where(cond2)\n",
        "  gff3.dropna(inplace=True);"
      ],
      "metadata": {
        "id": "1FWt00a6avln"
      },
      "execution_count": null,
      "outputs": []
    }
  ]
}